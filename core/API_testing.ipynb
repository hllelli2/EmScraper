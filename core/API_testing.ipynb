{
 "cells": [
  {
   "cell_type": "code",
   "execution_count": 1,
   "metadata": {},
   "outputs": [],
   "source": [
    "import requests\n",
    "from utils import EMDBRequestsException\n"
   ]
  },
  {
   "cell_type": "code",
   "execution_count": 7,
   "metadata": {},
   "outputs": [
    {
     "data": {
      "text/plain": [
       "404"
      ]
     },
     "execution_count": 7,
     "metadata": {},
     "output_type": "execute_result"
    }
   ],
   "source": [
    "\n",
    "emdbnumber = 1001\n",
    "r = requests.get('https://www.ebi.ac.uk/emdb/api/entry/{}'.format(emdbnumber))\n"
   ]
  },
  {
   "cell_type": "code",
   "execution_count": 8,
   "metadata": {},
   "outputs": [
    {
     "ename": "EMDBRequestsException",
     "evalue": "EMD_101 could not be accessed",
     "output_type": "error",
     "traceback": [
      "\u001b[0;31m---------------------------------------------------------------------------\u001b[0m",
      "\u001b[0;31mEMDBRequestsException\u001b[0m                     Traceback (most recent call last)",
      "\u001b[0;32m/tmp/ipykernel_716626/1351557910.py\u001b[0m in \u001b[0;36m<module>\u001b[0;34m\u001b[0m\n\u001b[1;32m      1\u001b[0m \u001b[0;32mif\u001b[0m \u001b[0mr\u001b[0m\u001b[0;34m.\u001b[0m\u001b[0mstatus_code\u001b[0m \u001b[0;34m!=\u001b[0m \u001b[0;36m200\u001b[0m\u001b[0;34m:\u001b[0m\u001b[0;34m\u001b[0m\u001b[0;34m\u001b[0m\u001b[0m\n\u001b[1;32m      2\u001b[0m \u001b[0;34m\u001b[0m\u001b[0m\n\u001b[0;32m----> 3\u001b[0;31m     \u001b[0;32mraise\u001b[0m \u001b[0mEMDBRequestsException\u001b[0m\u001b[0;34m(\u001b[0m\u001b[0;34m'EMD_{} could not be accessed'\u001b[0m\u001b[0;34m.\u001b[0m\u001b[0mformat\u001b[0m\u001b[0;34m(\u001b[0m\u001b[0memdbnumber\u001b[0m\u001b[0;34m)\u001b[0m\u001b[0;34m)\u001b[0m\u001b[0;34m\u001b[0m\u001b[0;34m\u001b[0m\u001b[0m\n\u001b[0m",
      "\u001b[0;31mEMDBRequestsException\u001b[0m: EMD_101 could not be accessed"
     ]
    }
   ],
   "source": [
    "if r.status_code != 200:\n",
    "    \n",
    "    raise EMDBRequestsException('EMD_{} could not be accessed'.format(emdbnumber))"
   ]
  },
  {
   "cell_type": "code",
   "execution_count": 16,
   "metadata": {},
   "outputs": [],
   "source": [
    "search_term = 'natural_source_organism:\"Apocrypta bakeri\"'\n",
    "\n",
    "r = requests.get('https://www.ebi.ac.uk/emdb/api/search/{}'.format(search_term))"
   ]
  },
  {
   "cell_type": "code",
   "execution_count": 2,
   "metadata": {},
   "outputs": [],
   "source": [
    "import pandas as pd"
   ]
  },
  {
   "cell_type": "code",
   "execution_count": 59,
   "metadata": {},
   "outputs": [],
   "source": [
    "import xmltodict\n",
    "from pathlib import Path\n",
    "import pprint\n",
    "from collections import OrderedDict\n",
    "\n",
    "\n",
    "def combine_keys(dic, key_check, value):\n",
    "    if key_check in dic:\n",
    "        dic[key_check] = f'{dic[key_check]},{value}'\n",
    "    else:\n",
    "        dic[key_check] = value\n",
    "    \n",
    "    return dic\n",
    "\n",
    "                \n",
    "def list_sorter(_list, final_dict, v=False):\n",
    "    if all(isinstance(x, OrderedDict) for x in _list):\n",
    "        for elem in _list:\n",
    "            \n",
    "            \n",
    "            for nested_dict_key, nested_dict_value in elem.items():\n",
    "                \n",
    "\n",
    "                if isinstance(nested_dict_value, list):\n",
    "                    # print(type(nested_dict_value))\n",
    "                    list_sorter(elem[nested_dict_key], final_dict, v=True)\n",
    "                    continue\n",
    "\n",
    "\n",
    "                if not isinstance(nested_dict_value, str):\n",
    "                    recursive_dict(elem, nested_dict_key, final_dict)\n",
    "                else:\n",
    "                    \n",
    "                        \n",
    "                    final_dict = combine_keys(\n",
    "                        final_dict, \n",
    "                        nested_dict_key, \n",
    "                        nested_dict_value\n",
    "                        )\n",
    "    else:\n",
    "        pass\n",
    "\n",
    "def recursive_dict(dic,key, final_dict):\n",
    "    \"\"\"Function to break a structure dictionary into key-value pairs\"\"\"\n",
    "    if dic[key] == None:\n",
    "        return\n",
    "\n",
    "    for k in dic[key]:\n",
    "        if dic[key] == None:\n",
    "            continue\n",
    "            \n",
    "        value_to_be_checked = dic[key][k]\n",
    "\n",
    "        # Sometimes get lists of dicitonaries \n",
    "        if isinstance(value_to_be_checked, list):\n",
    "            list_sorter(value_to_be_checked, final_dict)\n",
    "\n",
    "        # Check to see if it's come to the end of a recursion\n",
    "        elif not isinstance(value_to_be_checked, OrderedDict):\n",
    "            final_dict = combine_keys(\n",
    "                                final_dict, \n",
    "                                key, \n",
    "                                value_to_be_checked\n",
    "                                )\n",
    "\n",
    "            continue\n",
    "        else:\n",
    "            recursive_dict(dic[key], k, final_dict)\n",
    "            \n",
    "        \n",
    "start=True\n",
    "dict_before_dataframe = {}\n",
    "for xml in Path('/mnt/sda1/luc/SnD/EmScraper/header').glob('*.xml'):\n",
    "    name = xml.stem\n",
    "    with open(xml) as xml:\n",
    "        d = dict(xmltodict.parse(xml.read()))\n",
    "        map_importantdetails = {name: {}}\n",
    "        recursive_dict(d, 'emd', map_importantdetails[name])\n",
    "    \n",
    "        dict_before_dataframe |=  map_importantdetails\n",
    "        \n",
    "\n"
   ]
  },
  {
   "cell_type": "code",
   "execution_count": 81,
   "metadata": {},
   "outputs": [],
   "source": [
    "df = pd.DataFrame.from_dict(dict_before_dataframe).T"
   ]
  },
  {
   "cell_type": "code",
   "execution_count": 89,
   "metadata": {},
   "outputs": [
    {
     "name": "stdout",
     "output_type": "stream",
     "text": [
      "24795\n"
     ]
    },
    {
     "data": {
      "text/plain": [
       "8522"
      ]
     },
     "execution_count": 89,
     "metadata": {},
     "output_type": "execute_result"
    }
   ],
   "source": [
    "print(len(df))\n",
    "\n",
    "# mask = df.resolution.str.contains('\\d')\n",
    "# mask = mask.fillna(False)\n",
    "\n",
    "# df[df.resolution.isnull()].resolution\n",
    "# df = df.reindex(df.index.sort_values(ascending=True))\n",
    "# df = df.half_map\n",
    "len(df[~df.file.isnull()].file)\n"
   ]
  }
 ],
 "metadata": {
  "interpreter": {
   "hash": "3bbb89b609d1d482e8bf1e5b85a4c48240187f1d10b7c19895c6e5040d80b802"
  },
  "kernelspec": {
   "display_name": "Python 3.9.7 ('base')",
   "language": "python",
   "name": "python3"
  },
  "language_info": {
   "codemirror_mode": {
    "name": "ipython",
    "version": 3
   },
   "file_extension": ".py",
   "mimetype": "text/x-python",
   "name": "python",
   "nbconvert_exporter": "python",
   "pygments_lexer": "ipython3",
   "version": "3.9.7"
  },
  "orig_nbformat": 4
 },
 "nbformat": 4,
 "nbformat_minor": 2
}
